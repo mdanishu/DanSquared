{
 "cells": [
  {
   "cell_type": "code",
   "execution_count": 1,
   "metadata": {},
   "outputs": [],
   "source": [
    "import sys\n",
    "import yfinance as yf\n",
    "import pandas as pd\n",
    "import matplotlib as plt\n",
    "from datetime import datetime\n",
    "import requests\n",
    "from config import alphavantage_key \n",
    "import json\n"
   ]
  },
  {
   "cell_type": "code",
   "execution_count": 9,
   "metadata": {},
   "outputs": [],
   "source": [
    "tickers = 'GOOGL'\n",
    "url = f'https://www.alphavantage.co/query?function=TIME_SERIES_DAILY_ADJUSTED&symbol={tickers}&outputsize=full&apikey={alphavantage_key}'\n",
    "r = requests.get(url)\n",
    "data = r.json()"
   ]
  },
  {
   "cell_type": "code",
   "execution_count": 26,
   "metadata": {},
   "outputs": [
    {
     "name": "stdout",
     "output_type": "stream",
     "text": [
      "                       Price    Volume\n",
      "Date                                  \n",
      "2004-08-19  2.51614208958723  44659000\n",
      "2004-08-20  2.71613444683503  22834300\n",
      "2004-08-23  2.74346882544319  18256100\n",
      "2004-08-24  2.62986815104413  15247300\n",
      "2004-08-25  2.65820562611497   9188600\n",
      "...                      ...       ...\n",
      "2023-02-21             91.79  33629256\n",
      "2023-02-22             91.65  30884017\n",
      "2023-02-23             90.89  41206380\n",
      "2023-02-24             89.13  36585093\n",
      "2023-02-27             89.87  27502302\n",
      "\n",
      "[4663 rows x 2 columns]\n"
     ]
    }
   ],
   "source": [
    "# Convert the dictionary into a pandas DataFrame\n",
    "df = pd.DataFrame.from_dict(data['Time Series (Daily)'], orient='index')\n",
    "df.index = pd.to_datetime(df.index) # convert the index to datetime\n",
    "df = df.sort_index()\n",
    "df = df.drop(columns=['1. open','2. high','3. low','4. close', '7. dividend amount', '8. split coefficient'])\n",
    "df.rename(columns={\"5. adjusted close\": \"Price\", \"6. volume\":\"Volume\"}, inplace=True)\n",
    "df.index.name=\"Date\"\n",
    "\n",
    "print(df)\n",
    "# df.to_csv('googl_20.csv')"
   ]
  },
  {
   "cell_type": "code",
   "execution_count": null,
   "metadata": {},
   "outputs": [],
   "source": [
    "\n",
    "def AlphaAnalysis (tickers):\n",
    "    # replace the \"demo\" apikey below with your own key from https://www.alphavantage.co/support/#api-key\n",
    "    url = f'https://www.alphavantage.co/query?function=TIME_SERIES_DAILY_ADJUSTED&symbol={tickers}&apikey={alphavantage_key}'\n",
    "    r = requests.get(url)\n",
    "    data = r.json()\n",
    "    del data[\"Meta Data\"]\n",
    "    df = pd.DataFrame.from_dict(data)\n",
    "    return(df)\n",
    "    \n",
    "print(AlphaAnalysis(tickers))"
   ]
  }
 ],
 "metadata": {
  "kernelspec": {
   "display_name": "Python 3",
   "language": "python",
   "name": "python3"
  },
  "language_info": {
   "codemirror_mode": {
    "name": "ipython",
    "version": 3
   },
   "file_extension": ".py",
   "mimetype": "text/x-python",
   "name": "python",
   "nbconvert_exporter": "python",
   "pygments_lexer": "ipython3",
   "version": "3.10.5"
  },
  "orig_nbformat": 4,
  "vscode": {
   "interpreter": {
    "hash": "01c730f715953cdae05f8e4ac25ca6d1b5ea3ce06f18038eaf15eb4c2f30d669"
   }
  }
 },
 "nbformat": 4,
 "nbformat_minor": 2
}
